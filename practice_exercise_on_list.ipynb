{
 "cells": [
  {
   "cell_type": "code",
   "execution_count": 1,
   "metadata": {},
   "outputs": [
    {
     "name": "stdout",
     "output_type": "stream",
     "text": [
      "[('A', 22), ('B', 56), ('C', 10), ('D', 31)]\n",
      "[(22, 'A'), (56, 'B'), (10, 'C'), (31, 'D')]\n",
      "[(56, 'B'), (31, 'D'), (22, 'A'), (10, 'C')]\n",
      "[('B', 56), ('D', 31), ('A', 22), ('C', 10)]\n",
      "B - 56\n",
      "D - 31\n"
     ]
    }
   ],
   "source": [
    "# The following will be helpful in you practice exercise\n",
    "\n",
    "\n",
    "string_list = ['A', 'B', 'C', 'D']\n",
    "num_list = [22, 56, 10, 31]\n",
    "\n",
    "paired_list = list(zip(string_list, num_list))\n",
    "print(paired_list) # OUTPUT: [('A', 22), ('B', 56), ('C', 10), ('D', 31)]\n",
    "\n",
    "num_string_list = [(num, str) for str, num in paired_list]\n",
    "print(num_string_list) # OUTPUT: [(22, 'A'), (56, 'B'), (10, 'C'), (31, 'D')]\n",
    "\n",
    "sorted_num_string_list = sorted(num_string_list, reverse = True)\n",
    "print(sorted_num_string_list) # OUTPUT: [(56, 'B'), (31, 'D'), (22, 'A'), (10, 'C')]\n",
    "\n",
    "string_num_list = [(str, num) for num, str in sorted_num_string_list]\n",
    "print(string_num_list) # OUTPUT: [('B', 56), ('D', 31), ('A', 22), ('C', 10)]\n",
    "\n",
    "top_two_list = string_num_list[:2]\n",
    "for str, num in top_two_list:\n",
    "    print(f'{str} - {num}') # OUTPUT: B - 56, D - 31"
   ]
  },
  {
   "cell_type": "markdown",
   "metadata": {},
   "source": [
    "For the practice exercise, you will write a small program that will accept a list of student names and grades, and allow you to view them and perform basic operations on them.\n",
    "\n",
    "REQUIREMENTS:\n",
    "1. Accept a list of 10 names from the user. Each name must be separated by a comma \n",
    "2. Similarly, accept a list of 10 grades (0 - 5). Each grade must be separated by a comma\n",
    "    2.1. Grades must be stored as integers after accepting them as inputs. (HINT: Use typecasting)\n",
    "3. Store in a variable both the names and the grades together. (HINT: Use zip())\n",
    "4. Display to the user the different options that they can choose from to interact with the program\n",
    "    4.1. First option is to view the student with the highest grade.\n",
    "    4.2. Second option is to view top three students with the highest grade (HINT: Use sorted())\n",
    "    4.3. Third option is to view the students with the lowest grade\n",
    "    4.4. Fourth option is to get the total number of students that failed\n",
    "    4.5. Quit the program\n",
    "5. Use only the methods you have learned so far, including list methods and list comprehension. "
   ]
  },
  {
   "cell_type": "markdown",
   "metadata": {},
   "source": [
    "作为练习，你将编写一个小程序，接收一个包含学生姓名和成绩的列表，让你能够查看它们并对它们执行基本操作。\n",
    "\n",
    "要求:\n",
    "1. 接受用户提供的包含10个名字的列表。每个名字必须用逗号分隔\n",
    "2. 类似地，接受包含10个成绩的列表(0 - 5)。每个成绩必须用逗号分隔\n",
    "2.1. 在接受成绩作为输入后，必须将其存储为整数。(提示:使用类型转换)\n",
    "3. 在一个变量中同时存储名字和成绩。(提示:使用zip())\n",
    "4. 向用户显示他们可以选择的与程序交互的不同选项\n",
    "4.1. 第一种选择是查看成绩最高的学生。\n",
    "4.2. 第二个选项是查看成绩最高的前三名学生(提示:使用sorted())\n",
    "4.3. 第三种选择是查看成绩最低的学生\n",
    "4.4. 第四个选择是计算不及格的学生总数\n",
    "4.5. 2 .退出程序\n",
    "5. 只使用到目前为止学过的方法，包括列表方法和列表推导式。"
   ]
  },
  {
   "cell_type": "code",
   "execution_count": 2,
   "metadata": {},
   "outputs": [
    {
     "name": "stdout",
     "output_type": "stream",
     "text": [
      "Top three students:\n",
      "e (Grade: 5)\n",
      "d (Grade: 4)\n",
      "f (Grade: 4)\n",
      "Student with the highest grade: e (Grade: 5)\n",
      "Top three students:\n",
      "e (Grade: 5)\n",
      "d (Grade: 4)\n",
      "f (Grade: 4)\n",
      "Students with the lowest grade:\n",
      "a (Grade: 1)\n",
      "i (Grade: 1)\n",
      "j (Grade: 1)\n",
      "Total number of students that failed: 3\n",
      "Thank you for using the program.\n"
     ]
    }
   ],
   "source": [
    "# Accept a list of 10 names from the user\n",
    "input_names = input('Please enter 10 names separated by a comma (for instance: Alice,Bob,Cici...): ')\n",
    "\n",
    "# Each name must be separated by a comma\n",
    "name_list = input_names.strip().split(',')\n",
    "\n",
    "# Check the number of names\n",
    "if len(name_list) != 10:\n",
    "    print(\"Please enter exactly 10 names\")\n",
    "    exit()\n",
    "\n",
    "# Accept a list of 10 grades (0-5)\n",
    "input_grades = input('Please enter 10 grades (0-5) separated by comma (for instance: 1,2,3,4,5...): ')\n",
    "\n",
    "# Each grade must be separated by a comma\n",
    "grades_list = input_grades.strip().split(',')\n",
    "\n",
    "# Check the number of grades\n",
    "if len(grades_list) != 10:\n",
    "    print('Please enter exactly 10 grades')\n",
    "    exit()\n",
    "\n",
    "# Convert grades to integers\n",
    "grades_list = [int(grade) for grade in grades_list]\n",
    "\n",
    "# Store names and grades together\n",
    "overall_list = list(zip(name_list, grades_list))\n",
    "\n",
    "while True:\n",
    "    input_options = input('''Please enter your option:\n",
    "    1. View the student with the highest grade.\n",
    "    2. View top three students with the highest grade.\n",
    "    3. View the students with the lowest grade.\n",
    "    4. Get the total number of students that failed.\n",
    "    5. Quit the program\n",
    "    Enter your choice (1-5): ''')\n",
    "\n",
    "    if input_options == '1':\n",
    "        highest_student = max(overall_list, key=lambda x: x[1])\n",
    "        print(f\"Student with the highest grade: {highest_student[0]} (Grade: {highest_student[1]})\")\n",
    "    elif input_options == '2':\n",
    "        top_three = sorted(overall_list, key=lambda x: x[1], reverse=True)[:3]\n",
    "        print(\"Top three students:\")\n",
    "        for student in top_three:\n",
    "            print(f\"{student[0]} (Grade: {student[1]})\")\n",
    "    elif input_options == '3':\n",
    "        lowest_students = [student for student in overall_list if student[1] == min(grades_list)]\n",
    "        print(\"Students with the lowest grade:\")\n",
    "        for student in lowest_students:\n",
    "            print(f\"{student[0]} (Grade: {student[1]})\")\n",
    "    elif input_options == '4':\n",
    "        failed_students = [student for student in overall_list if student[1] < 2]\n",
    "        print(f\"Total number of students that failed: {len(failed_students)}\")\n",
    "    elif input_options == '5':\n",
    "        print(\"Thank you for using the program.\")\n",
    "        break\n",
    "    else:\n",
    "        print(\"Invalid option. Please enter a number between 1 and 5.\")\n",
    "\n",
    "\n"
   ]
  }
 ],
 "metadata": {
  "kernelspec": {
   "display_name": "Python 3",
   "language": "python",
   "name": "python3"
  },
  "language_info": {
   "codemirror_mode": {
    "name": "ipython",
    "version": 3
   },
   "file_extension": ".py",
   "mimetype": "text/x-python",
   "name": "python",
   "nbconvert_exporter": "python",
   "pygments_lexer": "ipython3",
   "version": "3.8.10"
  }
 },
 "nbformat": 4,
 "nbformat_minor": 2
}
